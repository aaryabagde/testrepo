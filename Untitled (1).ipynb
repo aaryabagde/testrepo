{
 "cells": [
  {
   "cell_type": "markdown",
   "id": "c34c42a0",
   "metadata": {},
   "source": [
    "# My Jupyter Notebook on IBM Watson Studio"
   ]
  },
  {
   "cell_type": "markdown",
   "id": "89affcd8",
   "metadata": {},
   "source": [
    "__Aarya Bagde__\n",
    "Data analyst\n"
   ]
  },
  {
   "cell_type": "markdown",
   "id": "4f1d9d22",
   "metadata": {},
   "source": [
    "_I am interested in data science because I get to learn new things on how everything works as today we are surrounded by data and it is the future_"
   ]
  },
  {
   "cell_type": "markdown",
   "id": "8e9fc440",
   "metadata": {},
   "source": [
    "### The code is supposed to print hello world"
   ]
  },
  {
   "cell_type": "code",
   "execution_count": 1,
   "id": "fae9ec05",
   "metadata": {},
   "outputs": [
    {
     "name": "stdout",
     "output_type": "stream",
     "text": [
      "Hello World\n"
     ]
    }
   ],
   "source": [
    "print(\"Hello World\")"
   ]
  },
  {
   "cell_type": "markdown",
   "id": "6b4d76e1",
   "metadata": {},
   "source": [
    "1. item one\n",
    "1. item two\n",
    "* item three\n",
    "* item four\n",
    "~~item five~~"
   ]
  },
  {
   "cell_type": "code",
   "execution_count": null,
   "id": "c84283d5",
   "metadata": {},
   "outputs": [],
   "source": []
  }
 ],
 "metadata": {
  "kernelspec": {
   "display_name": "Python 3 (ipykernel)",
   "language": "python",
   "name": "python3"
  },
  "language_info": {
   "codemirror_mode": {
    "name": "ipython",
    "version": 3
   },
   "file_extension": ".py",
   "mimetype": "text/x-python",
   "name": "python",
   "nbconvert_exporter": "python",
   "pygments_lexer": "ipython3",
   "version": "3.9.6"
  }
 },
 "nbformat": 4,
 "nbformat_minor": 5
}
